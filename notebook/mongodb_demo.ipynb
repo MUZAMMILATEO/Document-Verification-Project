{
 "cells": [
  {
   "cell_type": "code",
   "execution_count": 1,
   "metadata": {},
   "outputs": [
    {
     "name": "stdout",
     "output_type": "stream",
     "text": [
      "kernel is working\n"
     ]
    }
   ],
   "source": [
    "print(\"kernel is working\")"
   ]
  },
  {
   "cell_type": "code",
   "execution_count": null,
   "metadata": {},
   "outputs": [],
   "source": [
    "'''mongodb+srv://khanm:Aa@1*Bb#2(Aa@1*Bb#2(@cluster0.fmubk6v.mongodb.net/?retryWrites=true&w=majority&appName=Cluster0'''"
   ]
  },
  {
   "cell_type": "code",
   "execution_count": 21,
   "metadata": {},
   "outputs": [
    {
     "name": "stdout",
     "output_type": "stream",
     "text": [
      "Downloading from https://www.kaggle.com/api/v1/datasets/download/moro23/easyvisa-dataset?dataset_version_number=1...\n"
     ]
    },
    {
     "name": "stderr",
     "output_type": "stream",
     "text": [
      "100%|██████████| 391k/391k [00:00<00:00, 1.98MB/s]"
     ]
    },
    {
     "name": "stdout",
     "output_type": "stream",
     "text": [
      "Extracting files...\n",
      "Path to dataset file: /home/khanm2204/.cache/kagglehub/datasets/moro23/easyvisa-dataset/versions/1\n",
      "File: /home/khanm2204/.cache/kagglehub/datasets/moro23/easyvisa-dataset/versions/1/EasyVisa.csv\n",
      "Removed directory: /home/khanm2204/.cache/kagglehub/datasets/moro23/easyvisa-dataset/versions/1\n"
     ]
    },
    {
     "name": "stderr",
     "output_type": "stream",
     "text": [
      "\n"
     ]
    }
   ],
   "source": [
    "'''download the USVISA dataset from kaggle'''\n",
    "\n",
    "import os\n",
    "#check if kagglehub is installed\n",
    "try:\n",
    "    import kagglehub\n",
    "except ImportError:\n",
    "    print(\"kagglehub is not installed. Please install it using pip.\")\n",
    "    os.system(\"pip install kagglehub\")\n",
    "#check if kagglehub is installed\n",
    "try:\n",
    "    import shutil\n",
    "except ImportError:\n",
    "    print(\"shutil is not installed. Please install it using pip.\")\n",
    "    os.system(\"pip install shutil\")\n",
    "\n",
    "# download latest USVISA dataset\n",
    "path = kagglehub.dataset_download(\"moro23/easyvisa-dataset\")\n",
    "\n",
    "print(f\"Path to dataset file: {path}\")\n",
    "\n",
    "destination_dir = os.getcwd()\n",
    "\n",
    "if os.path.isdir(path):\n",
    "    for item in os.listdir(path):\n",
    "        item_path = os.path.join(path, item)\n",
    "        if os.path.isfile(item_path):\n",
    "            print(f\"File: {item_path}\")\n",
    "            shutil.move(item_path, destination_dir)\n",
    "       \n",
    "    try:\n",
    "        os.rmdir(path)\n",
    "        print(f\"Removed directory: {path}\")\n",
    "    except Exception as e:\n",
    "        print(f\"Error removing directory {path}: {e}\")\n",
    "else:\n",
    "    # if the default path is a file, move it directly\n",
    "    shutil.move(path, destination_dir)\n",
    "    print(f\"Moved file: {path} to {destination_dir}\")\n",
    "\n",
    "\n"
   ]
  }
 ],
 "metadata": {
  "kernelspec": {
   "display_name": "visa",
   "language": "python",
   "name": "python3"
  },
  "language_info": {
   "codemirror_mode": {
    "name": "ipython",
    "version": 3
   },
   "file_extension": ".py",
   "mimetype": "text/x-python",
   "name": "python",
   "nbconvert_exporter": "python",
   "pygments_lexer": "ipython3",
   "version": "3.9.21"
  }
 },
 "nbformat": 4,
 "nbformat_minor": 2
}
